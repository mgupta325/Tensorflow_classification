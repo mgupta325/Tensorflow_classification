{
  "nbformat": 4,
  "nbformat_minor": 0,
  "metadata": {
    "colab": {
      "name": "Untitled8.ipynb",
      "provenance": [],
      "authorship_tag": "ABX9TyMjkvqUYYkTHdq8ivWWzZQF",
      "include_colab_link": true
    },
    "kernelspec": {
      "name": "python3",
      "display_name": "Python 3"
    }
  },
  "cells": [
    {
      "cell_type": "markdown",
      "metadata": {
        "id": "view-in-github",
        "colab_type": "text"
      },
      "source": [
        "<a href=\"https://colab.research.google.com/github/mgupta325/tensorflow_classification/blob/master/lstm_rnn_sentiment_analysis.ipynb\" target=\"_parent\"><img src=\"https://colab.research.google.com/assets/colab-badge.svg\" alt=\"Open In Colab\"/></a>"
      ]
    },
    {
      "cell_type": "code",
      "metadata": {
        "id": "zDBYVd26nPof",
        "colab_type": "code",
        "colab": {}
      },
      "source": [
        "import tensorflow as tf\n",
        "\n",
        "from tensorflow.keras.preprocessing.sequence import pad_sequences"
      ],
      "execution_count": 0,
      "outputs": []
    },
    {
      "cell_type": "code",
      "metadata": {
        "id": "tq5Lz-kenT5f",
        "colab_type": "code",
        "colab": {}
      },
      "source": [
        "!wget --no-check-certificate \\\n",
        "    https://drive.google.com/uc?id=13ySLC_ue6Umt9RJYSeM2t-V0kCv-4C-P -O /tmp/sentiment.csv"
      ],
      "execution_count": 0,
      "outputs": []
    },
    {
      "cell_type": "code",
      "metadata": {
        "id": "leQxfa1SnVnf",
        "colab_type": "code",
        "colab": {}
      },
      "source": [
        "import pandas as pd\n",
        "\n",
        "dataset = pd.read_csv('/tmp/sentiment.csv')\n",
        "\n",
        "# Extract out sentences and labels\n",
        "sentences = dataset['text'].tolist()\n",
        "labels = dataset['sentiment'].tolist()"
      ],
      "execution_count": 0,
      "outputs": []
    },
    {
      "cell_type": "code",
      "metadata": {
        "id": "HqPi_lLbnWR1",
        "colab_type": "code",
        "colab": {
          "base_uri": "https://localhost:8080/",
          "height": 153
        },
        "outputId": "0f684bb2-fd73-492b-a4c4-e9c23a4d450d"
      },
      "source": [
        "# Print some example sentences and labels\n",
        "for x in range(2):\n",
        "  print(sentences[x])\n",
        "  print(labels[x])\n",
        "  print(\"\\n\")"
      ],
      "execution_count": 4,
      "outputs": [
        {
          "output_type": "stream",
          "text": [
            "So there is no way for me to plug it in here in the US unless I go by a converter.\n",
            "0\n",
            "\n",
            "\n",
            "Good case Excellent value.\n",
            "1\n",
            "\n",
            "\n"
          ],
          "name": "stdout"
        }
      ]
    },
    {
      "cell_type": "code",
      "metadata": {
        "id": "aCN3J8l1ndyP",
        "colab_type": "code",
        "colab": {
          "base_uri": "https://localhost:8080/",
          "height": 34
        },
        "outputId": "7ae300f0-5893-4b66-fecb-26b7665d7661"
      },
      "source": [
        "import tensorflow_datasets as tfds\n",
        "\n",
        "vocab_size = 1000\n",
        "tokenizer = tfds.features.text.SubwordTextEncoder.build_from_corpus(sentences, vocab_size, max_subword_length=5)\n",
        "\n",
        "# How big is the vocab size?\n",
        "print(\"Vocab size is \", tokenizer.vocab_size)"
      ],
      "execution_count": 5,
      "outputs": [
        {
          "output_type": "stream",
          "text": [
            "Vocab size is  999\n"
          ],
          "name": "stdout"
        }
      ]
    },
    {
      "cell_type": "code",
      "metadata": {
        "id": "l_3rEjjWnfe-",
        "colab_type": "code",
        "colab": {
          "base_uri": "https://localhost:8080/",
          "height": 527
        },
        "outputId": "ad58b952-a216-4d84-a621-f63797706a83"
      },
      "source": [
        "# Check that the tokenizer works appropriately\n",
        "num = 5\n",
        "print(sentences[num])\n",
        "encoded = tokenizer.encode(sentences[num])\n",
        "print(encoded)\n",
        "# Separately print out each subword, decoded\n",
        "for i in encoded:\n",
        "  print(tokenizer.decode([i]))"
      ],
      "execution_count": 6,
      "outputs": [
        {
          "output_type": "stream",
          "text": [
            "I have to jiggle the plug to get it to line up right to get decent volume.\n",
            "[4, 31, 6, 849, 162, 450, 12, 1, 600, 438, 775, 6, 175, 14, 6, 55, 213, 159, 474, 775, 6, 175, 614, 380, 295, 148, 72, 789]\n",
            "I \n",
            "have \n",
            "to \n",
            "j\n",
            "ig\n",
            "gl\n",
            "e \n",
            "the \n",
            "pl\n",
            "ug\n",
            " \n",
            "to \n",
            "get \n",
            "it \n",
            "to \n",
            "li\n",
            "ne \n",
            "up \n",
            "right\n",
            " \n",
            "to \n",
            "get \n",
            "dec\n",
            "ent \n",
            "vo\n",
            "lu\n",
            "me\n",
            ".\n"
          ],
          "name": "stdout"
        }
      ]
    },
    {
      "cell_type": "code",
      "metadata": {
        "id": "yARtEQ-vnjkF",
        "colab_type": "code",
        "colab": {
          "base_uri": "https://localhost:8080/",
          "height": 34
        },
        "outputId": "207df8e5-c4d6-4e50-f9c0-4c3943a7314d"
      },
      "source": [
        "for i, sentence in enumerate(sentences):\n",
        "  sentences[i] = tokenizer.encode(sentence)\n",
        "  # Check the sentences are appropriately replaced\n",
        "print(sentences[5])\n"
      ],
      "execution_count": 7,
      "outputs": [
        {
          "output_type": "stream",
          "text": [
            "[4, 31, 6, 849, 162, 450, 12, 1, 600, 438, 775, 6, 175, 14, 6, 55, 213, 159, 474, 775, 6, 175, 614, 380, 295, 148, 72, 789]\n"
          ],
          "name": "stdout"
        }
      ]
    },
    {
      "cell_type": "code",
      "metadata": {
        "id": "_NKaRzYunpYa",
        "colab_type": "code",
        "colab": {}
      },
      "source": [
        "import numpy as np\n",
        "\n",
        "max_length = 50\n",
        "trunc_type='post'\n",
        "padding_type='post'\n",
        "\n",
        "# Pad all sequences\n",
        "sequences_padded = pad_sequences(sentences, maxlen=max_length, \n",
        "                                 padding=padding_type, truncating=trunc_type)\n",
        "\n",
        "# Separate out the sentences and labels into training and test sets\n",
        "training_size = int(len(sentences) * 0.8)\n",
        "\n",
        "training_sequences = sequences_padded[0:training_size]\n",
        "testing_sequences = sequences_padded[training_size:]\n",
        "training_labels = labels[0:training_size]\n",
        "testing_labels = labels[training_size:]\n",
        "\n",
        "# Make labels into numpy arrays for use with the network later\n",
        "training_labels_final = np.array(training_labels)\n",
        "testing_labels_final = np.array(testing_labels)"
      ],
      "execution_count": 0,
      "outputs": []
    },
    {
      "cell_type": "code",
      "metadata": {
        "id": "qzOuzQuDnr8I",
        "colab_type": "code",
        "colab": {
          "base_uri": "https://localhost:8080/",
          "height": 1000
        },
        "outputId": "c6436109-1931-42b2-e115-b2fcc065d205"
      },
      "source": [
        "embedding_dim = 16\n",
        "\n",
        "model = tf.keras.Sequential([\n",
        "    tf.keras.layers.Embedding(vocab_size, embedding_dim, input_length=max_length),\n",
        "    tf.keras.layers.GlobalAveragePooling1D(), \n",
        "    tf.keras.layers.Dense(6, activation='relu'),\n",
        "    tf.keras.layers.Dense(1, activation='sigmoid')\n",
        "])\n",
        "\n",
        "model.summary()\n",
        "num_epochs = 30\n",
        "model.compile(loss='binary_crossentropy',optimizer='adam',metrics=['accuracy'])\n",
        "history = model.fit(training_sequences, training_labels_final, epochs=num_epochs, validation_data=(testing_sequences, testing_labels_final))\n"
      ],
      "execution_count": 10,
      "outputs": [
        {
          "output_type": "stream",
          "text": [
            "Model: \"sequential_1\"\n",
            "_________________________________________________________________\n",
            "Layer (type)                 Output Shape              Param #   \n",
            "=================================================================\n",
            "embedding_1 (Embedding)      (None, 50, 16)            16000     \n",
            "_________________________________________________________________\n",
            "global_average_pooling1d_1 ( (None, 16)                0         \n",
            "_________________________________________________________________\n",
            "dense_2 (Dense)              (None, 6)                 102       \n",
            "_________________________________________________________________\n",
            "dense_3 (Dense)              (None, 1)                 7         \n",
            "=================================================================\n",
            "Total params: 16,109\n",
            "Trainable params: 16,109\n",
            "Non-trainable params: 0\n",
            "_________________________________________________________________\n",
            "Epoch 1/30\n",
            "50/50 [==============================] - 0s 3ms/step - loss: 0.6900 - accuracy: 0.5430 - val_loss: 0.6984 - val_accuracy: 0.4486\n",
            "Epoch 2/30\n",
            "50/50 [==============================] - 0s 2ms/step - loss: 0.6835 - accuracy: 0.5587 - val_loss: 0.6950 - val_accuracy: 0.4887\n",
            "Epoch 3/30\n",
            "50/50 [==============================] - 0s 2ms/step - loss: 0.6736 - accuracy: 0.6008 - val_loss: 0.6842 - val_accuracy: 0.5238\n",
            "Epoch 4/30\n",
            "50/50 [==============================] - 0s 3ms/step - loss: 0.6584 - accuracy: 0.6547 - val_loss: 0.6769 - val_accuracy: 0.5338\n",
            "Epoch 5/30\n",
            "50/50 [==============================] - 0s 3ms/step - loss: 0.6360 - accuracy: 0.7112 - val_loss: 0.6580 - val_accuracy: 0.5940\n",
            "Epoch 6/30\n",
            "50/50 [==============================] - 0s 2ms/step - loss: 0.6070 - accuracy: 0.7407 - val_loss: 0.6361 - val_accuracy: 0.6642\n",
            "Epoch 7/30\n",
            "50/50 [==============================] - 0s 3ms/step - loss: 0.5683 - accuracy: 0.8023 - val_loss: 0.6066 - val_accuracy: 0.7018\n",
            "Epoch 8/30\n",
            "50/50 [==============================] - 0s 2ms/step - loss: 0.5278 - accuracy: 0.8242 - val_loss: 0.5741 - val_accuracy: 0.7494\n",
            "Epoch 9/30\n",
            "50/50 [==============================] - 0s 2ms/step - loss: 0.4868 - accuracy: 0.8355 - val_loss: 0.5451 - val_accuracy: 0.7644\n",
            "Epoch 10/30\n",
            "50/50 [==============================] - 0s 2ms/step - loss: 0.4505 - accuracy: 0.8399 - val_loss: 0.5171 - val_accuracy: 0.7820\n",
            "Epoch 11/30\n",
            "50/50 [==============================] - 0s 2ms/step - loss: 0.4157 - accuracy: 0.8675 - val_loss: 0.5455 - val_accuracy: 0.7243\n",
            "Epoch 12/30\n",
            "50/50 [==============================] - 0s 2ms/step - loss: 0.3848 - accuracy: 0.8726 - val_loss: 0.5062 - val_accuracy: 0.7519\n",
            "Epoch 13/30\n",
            "50/50 [==============================] - 0s 2ms/step - loss: 0.3623 - accuracy: 0.8732 - val_loss: 0.5137 - val_accuracy: 0.7519\n",
            "Epoch 14/30\n",
            "50/50 [==============================] - 0s 2ms/step - loss: 0.3346 - accuracy: 0.8851 - val_loss: 0.5110 - val_accuracy: 0.7519\n",
            "Epoch 15/30\n",
            "50/50 [==============================] - 0s 2ms/step - loss: 0.3150 - accuracy: 0.8933 - val_loss: 0.4893 - val_accuracy: 0.7644\n",
            "Epoch 16/30\n",
            "50/50 [==============================] - 0s 2ms/step - loss: 0.2969 - accuracy: 0.8970 - val_loss: 0.5082 - val_accuracy: 0.7569\n",
            "Epoch 17/30\n",
            "50/50 [==============================] - 0s 2ms/step - loss: 0.2813 - accuracy: 0.9014 - val_loss: 0.5007 - val_accuracy: 0.7569\n",
            "Epoch 18/30\n",
            "50/50 [==============================] - 0s 3ms/step - loss: 0.2651 - accuracy: 0.9077 - val_loss: 0.4913 - val_accuracy: 0.7569\n",
            "Epoch 19/30\n",
            "50/50 [==============================] - 0s 2ms/step - loss: 0.2522 - accuracy: 0.9140 - val_loss: 0.5274 - val_accuracy: 0.7544\n",
            "Epoch 20/30\n",
            "50/50 [==============================] - 0s 2ms/step - loss: 0.2415 - accuracy: 0.9146 - val_loss: 0.5062 - val_accuracy: 0.7519\n",
            "Epoch 21/30\n",
            "50/50 [==============================] - 0s 2ms/step - loss: 0.2317 - accuracy: 0.9190 - val_loss: 0.5063 - val_accuracy: 0.7569\n",
            "Epoch 22/30\n",
            "50/50 [==============================] - 0s 2ms/step - loss: 0.2204 - accuracy: 0.9228 - val_loss: 0.5543 - val_accuracy: 0.7494\n",
            "Epoch 23/30\n",
            "50/50 [==============================] - 0s 2ms/step - loss: 0.2117 - accuracy: 0.9272 - val_loss: 0.5545 - val_accuracy: 0.7444\n",
            "Epoch 24/30\n",
            "50/50 [==============================] - 0s 2ms/step - loss: 0.2041 - accuracy: 0.9291 - val_loss: 0.5382 - val_accuracy: 0.7494\n",
            "Epoch 25/30\n",
            "50/50 [==============================] - 0s 2ms/step - loss: 0.1953 - accuracy: 0.9360 - val_loss: 0.5634 - val_accuracy: 0.7368\n",
            "Epoch 26/30\n",
            "50/50 [==============================] - 0s 2ms/step - loss: 0.1871 - accuracy: 0.9379 - val_loss: 0.5869 - val_accuracy: 0.7368\n",
            "Epoch 27/30\n",
            "50/50 [==============================] - 0s 2ms/step - loss: 0.1797 - accuracy: 0.9416 - val_loss: 0.5859 - val_accuracy: 0.7419\n",
            "Epoch 28/30\n",
            "50/50 [==============================] - 0s 2ms/step - loss: 0.1744 - accuracy: 0.9454 - val_loss: 0.5696 - val_accuracy: 0.7519\n",
            "Epoch 29/30\n",
            "50/50 [==============================] - 0s 2ms/step - loss: 0.1723 - accuracy: 0.9492 - val_loss: 0.5926 - val_accuracy: 0.7494\n",
            "Epoch 30/30\n",
            "50/50 [==============================] - 0s 2ms/step - loss: 0.1598 - accuracy: 0.9561 - val_loss: 0.6273 - val_accuracy: 0.7368\n"
          ],
          "name": "stdout"
        }
      ]
    },
    {
      "cell_type": "code",
      "metadata": {
        "id": "wt1PF9zVn1HM",
        "colab_type": "code",
        "colab": {
          "base_uri": "https://localhost:8080/",
          "height": 541
        },
        "outputId": "99c5a141-08be-40f6-f903-509d4e1e44e3"
      },
      "source": [
        "import matplotlib.pyplot as plt\n",
        "\n",
        "\n",
        "def plot_graphs(history, string):\n",
        "  plt.plot(history.history[string])\n",
        "  plt.plot(history.history['val_'+string])\n",
        "  plt.xlabel(\"Epochs\")\n",
        "  plt.ylabel(string)\n",
        "  plt.legend([string, 'val_'+string])\n",
        "  plt.show()\n",
        "  \n",
        "plot_graphs(history, \"accuracy\")\n",
        "plot_graphs(history, \"loss\")"
      ],
      "execution_count": 11,
      "outputs": [
        {
          "output_type": "display_data",
          "data": {
            "image/png": "[encoded data removed]",
            "text/plain": [
              "<Figure size 432x288 with 1 Axes>"
            ]
          },
          "metadata": {
            "tags": [],
            "needs_background": "light"
          }
        },
        {
          "output_type": "display_data",
          "data": {
            "image/png": "[encoded data removed]",
            "text/plain": [
              "<Figure size 432x288 with 1 Axes>"
            ]
          },
          "metadata": {
            "tags": [],
            "needs_background": "light"
          }
        }
      ]
    },
    {
      "cell_type": "code",
      "metadata": {
        "id": "0LSf198Wn17K",
        "colab_type": "code",
        "colab": {
          "base_uri": "https://localhost:8080/",
          "height": 850
        },
        "outputId": "d7688767-82a5-4301-90c3-c6deb105c204"
      },
      "source": [
        "# Define a function to take a series of reviews\n",
        "# and predict whether each one is a positive or negative review\n",
        "\n",
        "# max_length = 100 # previously defined\n",
        "\n",
        "def predict_review(model, new_sentences, maxlen=max_length, show_padded_sequence=True ):\n",
        "  # Keep the original sentences so that we can keep using them later\n",
        "  # Create an array to hold the encoded sequences\n",
        "  new_sequences = []\n",
        "\n",
        "  # Convert the new reviews to sequences\n",
        "  for i, frvw in enumerate(new_sentences):\n",
        "    new_sequences.append(tokenizer.encode(frvw))\n",
        "\n",
        "  trunc_type='post' \n",
        "  padding_type='post'\n",
        "\n",
        "  # Pad all sequences for the new reviews\n",
        "  new_reviews_padded = pad_sequences(new_sequences, maxlen=max_length, \n",
        "                                 padding=padding_type, truncating=trunc_type)             \n",
        "\n",
        "  classes = model.predict(new_reviews_padded)\n",
        "\n",
        "  # The closer the class is to 1, the more positive the review is\n",
        "  for x in range(len(new_sentences)):\n",
        "    \n",
        "    # We can see the padded sequence if desired\n",
        "    # Print the sequence\n",
        "    if (show_padded_sequence):\n",
        "      print(new_reviews_padded[x])\n",
        "    # Print the review as text\n",
        "    print(new_sentences[x])\n",
        "    # Print its predicted class\n",
        "    print(classes[x])\n",
        "    print(\"\\n\")\n",
        "    # Use the model to predict some reviews   \n",
        "fake_reviews = [\"I love this phone\", \n",
        "                \"Everything was cold\",\n",
        "                \"Everything was hot exactly as I wanted\", \n",
        "                \"Everything was green\", \n",
        "                \"the host seated us immediately\",\n",
        "                \"they gave us free chocolate cake\", \n",
        "                \"we couldn't hear each other talk because of the shouting in the kitchen\"\n",
        "              ]\n",
        "\n",
        "predict_review(model, fake_reviews)\n"
      ],
      "execution_count": 12,
      "outputs": [
        {
          "output_type": "stream",
          "text": [
            "[  4 281  16  25   0   0   0   0   0   0   0   0   0   0   0   0   0   0\n",
            "   0   0   0   0   0   0   0   0   0   0   0   0   0   0   0   0   0   0\n",
            "   0   0   0   0   0   0   0   0   0   0   0   0   0   0]\n",
            "I love this phone\n",
            "[0.93232167]\n",
            "\n",
            "\n",
            "[812 227 864 100 775   9 525 843   0   0   0   0   0   0   0   0   0   0\n",
            "   0   0   0   0   0   0   0   0   0   0   0   0   0   0   0   0   0   0\n",
            "   0   0   0   0   0   0   0   0   0   0   0   0   0   0]\n",
            "Everything was cold\n",
            "[0.0993657]\n",
            "\n",
            "\n",
            "[812 227 864 100 775   9 109   8 333 731  24  61   4 171  59  77   0   0\n",
            "   0   0   0   0   0   0   0   0   0   0   0   0   0   0   0   0   0   0\n",
            "   0   0   0   0   0   0   0   0   0   0   0   0   0   0]\n",
            "Everything was hot exactly as I wanted\n",
            "[0.35440937]\n",
            "\n",
            "\n",
            "[812 227 864 100 775   9 157 359 853   0   0   0   0   0   0   0   0   0\n",
            "   0   0   0   0   0   0   0   0   0   0   0   0   0   0   0   0   0   0\n",
            "   0   0   0   0   0   0   0   0   0   0   0   0   0   0]\n",
            "Everything was green\n",
            "[0.09731876]\n",
            "\n",
            "\n",
            "[  1 109 228 540 237 635 241 423 340  89 298   0   0   0   0   0   0   0\n",
            "   0   0   0   0   0   0   0   0   0   0   0   0   0   0   0   0   0   0\n",
            "   0   0   0   0   0   0   0   0   0   0   0   0   0   0]\n",
            "the host seated us immediately\n",
            "[0.5536353]\n",
            "\n",
            "\n",
            "[154 242  47 635 341  12 569 547 147 319 775 125  85   0   0   0   0   0\n",
            "   0   0   0   0   0   0   0   0   0   0   0   0   0   0   0   0   0   0\n",
            "   0   0   0   0   0   0   0   0   0   0   0   0   0   0]\n",
            "they gave us free chocolate cake\n",
            "[0.79104066]\n",
            "\n",
            "\n",
            "[158 190 853 782   8 607 775 210 232 146 775 470  67 305 101  15   1 328\n",
            " 296  26  19   1 661 641 195   0   0   0   0   0   0   0   0   0   0   0\n",
            "   0   0   0   0   0   0   0   0   0   0   0   0   0   0]\n",
            "we couldn't hear each other talk because of the shouting in the kitchen\n",
            "[0.0172931]\n",
            "\n",
            "\n"
          ],
          "name": "stdout"
        }
      ]
    },
    {
      "cell_type": "code",
      "metadata": {
        "id": "yP0Bwf33oEBH",
        "colab_type": "code",
        "colab": {}
      },
      "source": [
        "def fit_model_now (model, sentences) :\n",
        "  model.compile(loss='binary_crossentropy',optimizer='adam',metrics=['accuracy'])\n",
        "  model.summary()\n",
        "  history = model.fit(training_sequences, training_labels_final, epochs=num_epochs, \n",
        "                      validation_data=(testing_sequences, testing_labels_final))\n",
        "  return history\n",
        "\n",
        "def plot_results (history):\n",
        "  plot_graphs(history, \"accuracy\")\n",
        "  plot_graphs(history, \"loss\")\n",
        "\n",
        "def fit_model_and_show_results (model, sentences):\n",
        "  history = fit_model_now(model, sentences)\n",
        "  plot_results(history)\n",
        "  predict_review(model, sentences)"
      ],
      "execution_count": 0,
      "outputs": []
    },
    {
      "cell_type": "code",
      "metadata": {
        "id": "aUK5RCSqoH-8",
        "colab_type": "code",
        "colab": {
          "base_uri": "https://localhost:8080/",
          "height": 1000
        },
        "outputId": "b8a6678b-0e9c-427f-9e62-731426a6e2bb"
      },
      "source": [
        "# Define the model\n",
        "model_bidi_lstm = tf.keras.Sequential([\n",
        "    tf.keras.layers.Embedding(vocab_size, embedding_dim, input_length=max_length),\n",
        "    tf.keras.layers.Bidirectional(tf.keras.layers.LSTM(embedding_dim)), \n",
        "    tf.keras.layers.Dense(6, activation='relu'), \n",
        "    tf.keras.layers.Dense(1, activation='sigmoid')\n",
        "])\n",
        "\n",
        "# Compile and train the model and then show the predictions for our extra sentences\n",
        "fit_model_and_show_results(model_bidi_lstm, fake_reviews)\n"
      ],
      "execution_count": 14,
      "outputs": [
        {
          "output_type": "stream",
          "text": [
            "Model: \"sequential_2\"\n",
            "_________________________________________________________________\n",
            "Layer (type)                 Output Shape              Param #   \n",
            "=================================================================\n",
            "embedding_2 (Embedding)      (None, 50, 16)            16000     \n",
            "_________________________________________________________________\n",
            "bidirectional (Bidirectional (None, 32)                4224      \n",
            "_________________________________________________________________\n",
            "dense_4 (Dense)              (None, 6)                 198       \n",
            "_________________________________________________________________\n",
            "dense_5 (Dense)              (None, 1)                 7         \n",
            "=================================================================\n",
            "Total params: 20,429\n",
            "Trainable params: 20,429\n",
            "Non-trainable params: 0\n",
            "_________________________________________________________________\n",
            "Epoch 1/30\n",
            "50/50 [==============================] - 2s 39ms/step - loss: 0.6904 - accuracy: 0.5254 - val_loss: 0.7014 - val_accuracy: 0.4135\n",
            "Epoch 2/30\n",
            "50/50 [==============================] - 1s 27ms/step - loss: 0.6448 - accuracy: 0.6378 - val_loss: 0.5795 - val_accuracy: 0.7469\n",
            "Epoch 3/30\n",
            "50/50 [==============================] - 1s 26ms/step - loss: 0.4996 - accuracy: 0.7866 - val_loss: 0.5575 - val_accuracy: 0.7343\n",
            "Epoch 4/30\n",
            "50/50 [==============================] - 1s 26ms/step - loss: 0.3521 - accuracy: 0.8512 - val_loss: 0.5643 - val_accuracy: 0.7368\n",
            "Epoch 5/30\n",
            "50/50 [==============================] - 1s 26ms/step - loss: 0.2720 - accuracy: 0.9021 - val_loss: 0.6035 - val_accuracy: 0.7544\n",
            "Epoch 6/30\n",
            "50/50 [==============================] - 1s 27ms/step - loss: 0.2178 - accuracy: 0.9209 - val_loss: 0.5963 - val_accuracy: 0.7594\n",
            "Epoch 7/30\n",
            "50/50 [==============================] - 1s 27ms/step - loss: 0.1888 - accuracy: 0.9353 - val_loss: 0.6391 - val_accuracy: 0.7494\n",
            "Epoch 8/30\n",
            "50/50 [==============================] - 1s 27ms/step - loss: 0.1655 - accuracy: 0.9473 - val_loss: 0.6231 - val_accuracy: 0.7519\n",
            "Epoch 9/30\n",
            "50/50 [==============================] - 1s 26ms/step - loss: 0.1317 - accuracy: 0.9579 - val_loss: 0.8402 - val_accuracy: 0.7519\n",
            "Epoch 10/30\n",
            "50/50 [==============================] - 1s 26ms/step - loss: 0.1122 - accuracy: 0.9661 - val_loss: 0.7829 - val_accuracy: 0.7519\n",
            "Epoch 11/30\n",
            "50/50 [==============================] - 1s 26ms/step - loss: 0.0874 - accuracy: 0.9768 - val_loss: 0.9408 - val_accuracy: 0.7569\n",
            "Epoch 12/30\n",
            "50/50 [==============================] - 1s 28ms/step - loss: 0.0684 - accuracy: 0.9837 - val_loss: 1.0186 - val_accuracy: 0.7544\n",
            "Epoch 13/30\n",
            "50/50 [==============================] - 1s 26ms/step - loss: 0.0742 - accuracy: 0.9793 - val_loss: 1.1171 - val_accuracy: 0.7469\n",
            "Epoch 14/30\n",
            "50/50 [==============================] - 1s 26ms/step - loss: 0.0858 - accuracy: 0.9724 - val_loss: 0.9938 - val_accuracy: 0.7569\n",
            "Epoch 15/30\n",
            "50/50 [==============================] - 1s 26ms/step - loss: 0.0551 - accuracy: 0.9881 - val_loss: 1.1577 - val_accuracy: 0.7519\n",
            "Epoch 16/30\n",
            "50/50 [==============================] - 1s 28ms/step - loss: 0.0378 - accuracy: 0.9918 - val_loss: 1.3198 - val_accuracy: 0.7494\n",
            "Epoch 17/30\n",
            "50/50 [==============================] - 1s 27ms/step - loss: 0.0306 - accuracy: 0.9931 - val_loss: 1.2855 - val_accuracy: 0.7519\n",
            "Epoch 18/30\n",
            "50/50 [==============================] - 1s 26ms/step - loss: 0.0238 - accuracy: 0.9956 - val_loss: 1.5058 - val_accuracy: 0.7469\n",
            "Epoch 19/30\n",
            "50/50 [==============================] - 1s 27ms/step - loss: 0.0191 - accuracy: 0.9969 - val_loss: 1.5121 - val_accuracy: 0.7569\n",
            "Epoch 20/30\n",
            "50/50 [==============================] - 1s 30ms/step - loss: 0.0232 - accuracy: 0.9925 - val_loss: 1.2763 - val_accuracy: 0.7644\n",
            "Epoch 21/30\n",
            "50/50 [==============================] - 1s 27ms/step - loss: 0.0779 - accuracy: 0.9743 - val_loss: 1.3027 - val_accuracy: 0.7619\n",
            "Epoch 22/30\n",
            "50/50 [==============================] - 1s 27ms/step - loss: 0.0436 - accuracy: 0.9862 - val_loss: 1.6972 - val_accuracy: 0.7243\n",
            "Epoch 23/30\n",
            "50/50 [==============================] - 1s 27ms/step - loss: 0.0302 - accuracy: 0.9906 - val_loss: 1.3414 - val_accuracy: 0.7594\n",
            "Epoch 24/30\n",
            "50/50 [==============================] - 1s 27ms/step - loss: 0.0153 - accuracy: 0.9962 - val_loss: 1.5861 - val_accuracy: 0.7494\n",
            "Epoch 25/30\n",
            "50/50 [==============================] - 1s 27ms/step - loss: 0.0083 - accuracy: 0.9981 - val_loss: 1.6107 - val_accuracy: 0.7494\n",
            "Epoch 26/30\n",
            "50/50 [==============================] - 1s 26ms/step - loss: 0.0064 - accuracy: 0.9981 - val_loss: 1.6624 - val_accuracy: 0.7494\n",
            "Epoch 27/30\n",
            "50/50 [==============================] - 1s 26ms/step - loss: 0.0054 - accuracy: 0.9981 - val_loss: 1.7373 - val_accuracy: 0.7494\n",
            "Epoch 28/30\n",
            "50/50 [==============================] - 1s 29ms/step - loss: 0.0048 - accuracy: 0.9981 - val_loss: 1.7920 - val_accuracy: 0.7494\n",
            "Epoch 29/30\n",
            "50/50 [==============================] - 1s 30ms/step - loss: 0.0041 - accuracy: 0.9981 - val_loss: 1.8507 - val_accuracy: 0.7494\n",
            "Epoch 30/30\n",
            "50/50 [==============================] - 1s 27ms/step - loss: 0.0038 - accuracy: 0.9981 - val_loss: 1.8533 - val_accuracy: 0.7494\n"
          ],
          "name": "stdout"
        },
        {
          "output_type": "display_data",
          "data": {
            "image/png": "[encoded data removed]",
            "text/plain": [
              "<Figure size 432x288 with 1 Axes>"
            ]
          },
          "metadata": {
            "tags": [],
            "needs_background": "light"
          }
        },
        {
          "output_type": "display_data",
          "data": {
            "image/png": "[encoded data removed]",
            "text/plain": [
              "<Figure size 432x288 with 1 Axes>"
            ]
          },
          "metadata": {
            "tags": [],
            "needs_background": "light"
          }
        },
        {
          "output_type": "stream",
          "text": [
            "[  4 281  16  25   0   0   0   0   0   0   0   0   0   0   0   0   0   0\n",
            "   0   0   0   0   0   0   0   0   0   0   0   0   0   0   0   0   0   0\n",
            "   0   0   0   0   0   0   0   0   0   0   0   0   0   0]\n",
            "I love this phone\n",
            "[0.9998331]\n",
            "\n",
            "\n",
            "[812 227 864 100 775   9 525 843   0   0   0   0   0   0   0   0   0   0\n",
            "   0   0   0   0   0   0   0   0   0   0   0   0   0   0   0   0   0   0\n",
            "   0   0   0   0   0   0   0   0   0   0   0   0   0   0]\n",
            "Everything was cold\n",
            "[0.00071969]\n",
            "\n",
            "\n",
            "[812 227 864 100 775   9 109   8 333 731  24  61   4 171  59  77   0   0\n",
            "   0   0   0   0   0   0   0   0   0   0   0   0   0   0   0   0   0   0\n",
            "   0   0   0   0   0   0   0   0   0   0   0   0   0   0]\n",
            "Everything was hot exactly as I wanted\n",
            "[0.99587053]\n",
            "\n",
            "\n",
            "[812 227 864 100 775   9 157 359 853   0   0   0   0   0   0   0   0   0\n",
            "   0   0   0   0   0   0   0   0   0   0   0   0   0   0   0   0   0   0\n",
            "   0   0   0   0   0   0   0   0   0   0   0   0   0   0]\n",
            "Everything was green\n",
            "[0.00080366]\n",
            "\n",
            "\n",
            "[  1 109 228 540 237 635 241 423 340  89 298   0   0   0   0   0   0   0\n",
            "   0   0   0   0   0   0   0   0   0   0   0   0   0   0   0   0   0   0\n",
            "   0   0   0   0   0   0   0   0   0   0   0   0   0   0]\n",
            "the host seated us immediately\n",
            "[0.9997403]\n",
            "\n",
            "\n",
            "[154 242  47 635 341  12 569 547 147 319 775 125  85   0   0   0   0   0\n",
            "   0   0   0   0   0   0   0   0   0   0   0   0   0   0   0   0   0   0\n",
            "   0   0   0   0   0   0   0   0   0   0   0   0   0   0]\n",
            "they gave us free chocolate cake\n",
            "[0.98902166]\n",
            "\n",
            "\n",
            "[158 190 853 782   8 607 775 210 232 146 775 470  67 305 101  15   1 328\n",
            " 296  26  19   1 661 641 195   0   0   0   0   0   0   0   0   0   0   0\n",
            "   0   0   0   0   0   0   0   0   0   0   0   0   0   0]\n",
            "we couldn't hear each other talk because of the shouting in the kitchen\n",
            "[0.00025601]\n",
            "\n",
            "\n"
          ],
          "name": "stdout"
        }
      ]
    },
    {
      "cell_type": "code",
      "metadata": {
        "id": "ePgxdk_FoR9r",
        "colab_type": "code",
        "colab": {
          "base_uri": "https://localhost:8080/",
          "height": 1000
        },
        "outputId": "9268609c-03c7-40d6-86db-fe3337d4a535"
      },
      "source": [
        "model_multiple_bidi_lstm = tf.keras.Sequential([\n",
        "    tf.keras.layers.Embedding(vocab_size, embedding_dim, input_length=max_length),\n",
        "    tf.keras.layers.Bidirectional(tf.keras.layers.LSTM(embedding_dim, \n",
        "                                                       return_sequences=True)), \n",
        "    tf.keras.layers.Bidirectional(tf.keras.layers.LSTM(embedding_dim)),\n",
        "    tf.keras.layers.Dense(6, activation='relu'),\n",
        "    tf.keras.layers.Dense(1, activation='sigmoid')\n",
        "])\n",
        "\n",
        "fit_model_and_show_results(model_multiple_bidi_lstm, fake_reviews)"
      ],
      "execution_count": 15,
      "outputs": [
        {
          "output_type": "stream",
          "text": [
            "Model: \"sequential_3\"\n",
            "_________________________________________________________________\n",
            "Layer (type)                 Output Shape              Param #   \n",
            "=================================================================\n",
            "embedding_3 (Embedding)      (None, 50, 16)            16000     \n",
            "_________________________________________________________________\n",
            "bidirectional_1 (Bidirection (None, 50, 32)            4224      \n",
            "_________________________________________________________________\n",
            "bidirectional_2 (Bidirection (None, 32)                6272      \n",
            "_________________________________________________________________\n",
            "dense_6 (Dense)              (None, 6)                 198       \n",
            "_________________________________________________________________\n",
            "dense_7 (Dense)              (None, 1)                 7         \n",
            "=================================================================\n",
            "Total params: 26,701\n",
            "Trainable params: 26,701\n",
            "Non-trainable params: 0\n",
            "_________________________________________________________________\n",
            "Epoch 1/30\n",
            "50/50 [==============================] - 4s 80ms/step - loss: 0.6914 - accuracy: 0.5217 - val_loss: 0.7155 - val_accuracy: 0.4110\n",
            "Epoch 2/30\n",
            "50/50 [==============================] - 2s 50ms/step - loss: 0.6555 - accuracy: 0.6121 - val_loss: 0.7226 - val_accuracy: 0.6065\n",
            "Epoch 3/30\n",
            "50/50 [==============================] - 3s 54ms/step - loss: 0.4536 - accuracy: 0.8154 - val_loss: 0.5078 - val_accuracy: 0.7769\n",
            "Epoch 4/30\n",
            "50/50 [==============================] - 3s 52ms/step - loss: 0.2989 - accuracy: 0.8864 - val_loss: 0.5029 - val_accuracy: 0.7719\n",
            "Epoch 5/30\n",
            "50/50 [==============================] - 3s 52ms/step - loss: 0.2112 - accuracy: 0.9234 - val_loss: 0.5876 - val_accuracy: 0.7594\n",
            "Epoch 6/30\n",
            "50/50 [==============================] - 3s 53ms/step - loss: 0.1690 - accuracy: 0.9410 - val_loss: 0.6501 - val_accuracy: 0.7794\n",
            "Epoch 7/30\n",
            "50/50 [==============================] - 3s 50ms/step - loss: 0.1126 - accuracy: 0.9680 - val_loss: 0.7609 - val_accuracy: 0.7669\n",
            "Epoch 8/30\n",
            "50/50 [==============================] - 2s 50ms/step - loss: 0.0847 - accuracy: 0.9793 - val_loss: 0.9356 - val_accuracy: 0.7519\n",
            "Epoch 9/30\n",
            "50/50 [==============================] - 3s 51ms/step - loss: 0.0819 - accuracy: 0.9774 - val_loss: 0.8261 - val_accuracy: 0.7694\n",
            "Epoch 10/30\n",
            "50/50 [==============================] - 3s 51ms/step - loss: 0.0935 - accuracy: 0.9705 - val_loss: 1.2628 - val_accuracy: 0.7143\n",
            "Epoch 11/30\n",
            "50/50 [==============================] - 3s 53ms/step - loss: 0.0869 - accuracy: 0.9793 - val_loss: 0.9264 - val_accuracy: 0.7569\n",
            "Epoch 12/30\n",
            "50/50 [==============================] - 3s 52ms/step - loss: 0.0780 - accuracy: 0.9774 - val_loss: 1.1521 - val_accuracy: 0.7419\n",
            "Epoch 13/30\n",
            "50/50 [==============================] - 3s 51ms/step - loss: 0.0713 - accuracy: 0.9799 - val_loss: 1.1034 - val_accuracy: 0.7469\n",
            "Epoch 14/30\n",
            "50/50 [==============================] - 2s 50ms/step - loss: 0.0525 - accuracy: 0.9856 - val_loss: 1.2971 - val_accuracy: 0.7444\n",
            "Epoch 15/30\n",
            "50/50 [==============================] - 2s 50ms/step - loss: 0.0467 - accuracy: 0.9887 - val_loss: 1.2753 - val_accuracy: 0.7343\n",
            "Epoch 16/30\n",
            "50/50 [==============================] - 3s 50ms/step - loss: 0.0395 - accuracy: 0.9893 - val_loss: 1.3723 - val_accuracy: 0.7368\n",
            "Epoch 17/30\n",
            "50/50 [==============================] - 2s 50ms/step - loss: 0.0374 - accuracy: 0.9893 - val_loss: 1.4919 - val_accuracy: 0.7343\n",
            "Epoch 18/30\n",
            "50/50 [==============================] - 3s 51ms/step - loss: 0.0330 - accuracy: 0.9893 - val_loss: 1.3301 - val_accuracy: 0.7469\n",
            "Epoch 19/30\n",
            "50/50 [==============================] - 3s 51ms/step - loss: 0.0312 - accuracy: 0.9893 - val_loss: 1.4330 - val_accuracy: 0.7293\n",
            "Epoch 20/30\n",
            "50/50 [==============================] - 2s 50ms/step - loss: 0.0326 - accuracy: 0.9900 - val_loss: 1.6165 - val_accuracy: 0.7143\n",
            "Epoch 21/30\n",
            "50/50 [==============================] - 3s 51ms/step - loss: 0.0291 - accuracy: 0.9887 - val_loss: 1.5054 - val_accuracy: 0.7318\n",
            "Epoch 22/30\n",
            "50/50 [==============================] - 2s 50ms/step - loss: 0.0347 - accuracy: 0.9856 - val_loss: 1.7182 - val_accuracy: 0.7118\n",
            "Epoch 23/30\n",
            "50/50 [==============================] - 3s 51ms/step - loss: 0.0462 - accuracy: 0.9856 - val_loss: 1.3051 - val_accuracy: 0.7343\n",
            "Epoch 24/30\n",
            "50/50 [==============================] - 3s 51ms/step - loss: 0.0346 - accuracy: 0.9843 - val_loss: 1.5220 - val_accuracy: 0.7168\n",
            "Epoch 25/30\n",
            "50/50 [==============================] - 2s 50ms/step - loss: 0.0381 - accuracy: 0.9874 - val_loss: 1.4893 - val_accuracy: 0.7193\n",
            "Epoch 26/30\n",
            "50/50 [==============================] - 3s 53ms/step - loss: 0.0695 - accuracy: 0.9799 - val_loss: 1.6000 - val_accuracy: 0.7093\n",
            "Epoch 27/30\n",
            "50/50 [==============================] - 3s 52ms/step - loss: 0.0486 - accuracy: 0.9799 - val_loss: 1.3694 - val_accuracy: 0.7393\n",
            "Epoch 28/30\n",
            "50/50 [==============================] - 3s 52ms/step - loss: 0.0289 - accuracy: 0.9868 - val_loss: 1.3221 - val_accuracy: 0.7419\n",
            "Epoch 29/30\n",
            "50/50 [==============================] - 3s 52ms/step - loss: 0.0213 - accuracy: 0.9906 - val_loss: 1.4114 - val_accuracy: 0.7393\n",
            "Epoch 30/30\n",
            "50/50 [==============================] - 3s 50ms/step - loss: 0.0158 - accuracy: 0.9906 - val_loss: 1.5431 - val_accuracy: 0.7268\n"
          ],
          "name": "stdout"
        },
        {
          "output_type": "display_data",
          "data": {
            "image/png": "[encoded data removed]",
            "text/plain": [
              "<Figure size 432x288 with 1 Axes>"
            ]
          },
          "metadata": {
            "tags": [],
            "needs_background": "light"
          }
        },
        {
          "output_type": "display_data",
          "data": {
            "image/png": "[encoded data removed]",
            "text/plain": [
              "<Figure size 432x288 with 1 Axes>"
            ]
          },
          "metadata": {
            "tags": [],
            "needs_background": "light"
          }
        },
        {
          "output_type": "stream",
          "text": [
            "[  4 281  16  25   0   0   0   0   0   0   0   0   0   0   0   0   0   0\n",
            "   0   0   0   0   0   0   0   0   0   0   0   0   0   0   0   0   0   0\n",
            "   0   0   0   0   0   0   0   0   0   0   0   0   0   0]\n",
            "I love this phone\n",
            "[0.999877]\n",
            "\n",
            "\n",
            "[812 227 864 100 775   9 525 843   0   0   0   0   0   0   0   0   0   0\n",
            "   0   0   0   0   0   0   0   0   0   0   0   0   0   0   0   0   0   0\n",
            "   0   0   0   0   0   0   0   0   0   0   0   0   0   0]\n",
            "Everything was cold\n",
            "[0.0011433]\n",
            "\n",
            "\n",
            "[812 227 864 100 775   9 109   8 333 731  24  61   4 171  59  77   0   0\n",
            "   0   0   0   0   0   0   0   0   0   0   0   0   0   0   0   0   0   0\n",
            "   0   0   0   0   0   0   0   0   0   0   0   0   0   0]\n",
            "Everything was hot exactly as I wanted\n",
            "[0.41080844]\n",
            "\n",
            "\n",
            "[812 227 864 100 775   9 157 359 853   0   0   0   0   0   0   0   0   0\n",
            "   0   0   0   0   0   0   0   0   0   0   0   0   0   0   0   0   0   0\n",
            "   0   0   0   0   0   0   0   0   0   0   0   0   0   0]\n",
            "Everything was green\n",
            "[0.00160059]\n",
            "\n",
            "\n",
            "[  1 109 228 540 237 635 241 423 340  89 298   0   0   0   0   0   0   0\n",
            "   0   0   0   0   0   0   0   0   0   0   0   0   0   0   0   0   0   0\n",
            "   0   0   0   0   0   0   0   0   0   0   0   0   0   0]\n",
            "the host seated us immediately\n",
            "[0.99450976]\n",
            "\n",
            "\n",
            "[154 242  47 635 341  12 569 547 147 319 775 125  85   0   0   0   0   0\n",
            "   0   0   0   0   0   0   0   0   0   0   0   0   0   0   0   0   0   0\n",
            "   0   0   0   0   0   0   0   0   0   0   0   0   0   0]\n",
            "they gave us free chocolate cake\n",
            "[0.9979632]\n",
            "\n",
            "\n",
            "[158 190 853 782   8 607 775 210 232 146 775 470  67 305 101  15   1 328\n",
            " 296  26  19   1 661 641 195   0   0   0   0   0   0   0   0   0   0   0\n",
            "   0   0   0   0   0   0   0   0   0   0   0   0   0   0]\n",
            "we couldn't hear each other talk because of the shouting in the kitchen\n",
            "[0.00096387]\n",
            "\n",
            "\n"
          ],
          "name": "stdout"
        }
      ]
    },
    {
      "cell_type": "code",
      "metadata": {
        "id": "DHF6IcJpoZpQ",
        "colab_type": "code",
        "colab": {
          "base_uri": "https://localhost:8080/",
          "height": 1000
        },
        "outputId": "54e1bda8-5cb4-4fe3-bf14-f5419ca83a34"
      },
      "source": [
        "my_reviews =[\"lovely\", \"dreadful\", \"stay away\",\n",
        "             \"everything was hot exactly as I wanted\",\n",
        "             \"everything was not exactly as I wanted\",\n",
        "             \"they gave us free chocolate cake\",\n",
        "             \"I've never eaten anything so spicy in my life, my throat burned for hours\",\n",
        "             \"for a phone that is as expensive as this one I expect it to be much easier to use than this thing is\",\n",
        "             \"we left there very full for a low price so I'd say you just can't go wrong at this place\",\n",
        "             \"that place does not have quality meals and it isn't a good place to go for dinner\",\n",
        "             ]\n",
        "print(\"===================================\\n\",\"Embeddings only:\\n\", \"===================================\",)\n",
        "predict_review(model, my_reviews, show_padded_sequence=False)\n",
        "\n",
        "print(\"===================================\\n\", \"With a single bidirectional LSTM:\\n\", \"===================================\")\n",
        "predict_review(model_bidi_lstm, my_reviews, show_padded_sequence=False)\n",
        "\n",
        "print(\"===================================\\n\",\"With two bidirectional LSTMs:\\n\", \"===================================\")\n",
        "predict_review(model_multiple_bidi_lstm, my_reviews, show_padded_sequence=False)"
      ],
      "execution_count": 16,
      "outputs": [
        {
          "output_type": "stream",
          "text": [
            "===================================\n",
            " Embeddings only:\n",
            " ===================================\n",
            "lovely\n",
            "[0.9484689]\n",
            "\n",
            "\n",
            "dreadful\n",
            "[0.3091981]\n",
            "\n",
            "\n",
            "stay away\n",
            "[0.6864572]\n",
            "\n",
            "\n",
            "everything was hot exactly as I wanted\n",
            "[0.8084471]\n",
            "\n",
            "\n",
            "everything was not exactly as I wanted\n",
            "[0.5797428]\n",
            "\n",
            "\n",
            "they gave us free chocolate cake\n",
            "[0.79104066]\n",
            "\n",
            "\n",
            "I've never eaten anything so spicy in my life, my throat burned for hours\n",
            "[0.02427933]\n",
            "\n",
            "\n",
            "for a phone that is as expensive as this one I expect it to be much easier to use than this thing is\n",
            "[0.5835189]\n",
            "\n",
            "\n",
            "we left there very full for a low price so I'd say you just can't go wrong at this place\n",
            "[0.81629705]\n",
            "\n",
            "\n",
            "that place does not have quality meals and it isn't a good place to go for dinner\n",
            "[0.8884558]\n",
            "\n",
            "\n",
            "===================================\n",
            " With a single bidirectional LSTM:\n",
            " ===================================\n",
            "lovely\n",
            "[0.99390274]\n",
            "\n",
            "\n",
            "dreadful\n",
            "[0.00214815]\n",
            "\n",
            "\n",
            "stay away\n",
            "[0.02943873]\n",
            "\n",
            "\n",
            "everything was hot exactly as I wanted\n",
            "[0.9998701]\n",
            "\n",
            "\n",
            "everything was not exactly as I wanted\n",
            "[0.08763322]\n",
            "\n",
            "\n",
            "they gave us free chocolate cake\n",
            "[0.9890218]\n",
            "\n",
            "\n",
            "I've never eaten anything so spicy in my life, my throat burned for hours\n",
            "[0.9597141]\n",
            "\n",
            "\n",
            "for a phone that is as expensive as this one I expect it to be much easier to use than this thing is\n",
            "[0.00176629]\n",
            "\n",
            "\n",
            "we left there very full for a low price so I'd say you just can't go wrong at this place\n",
            "[0.9999913]\n",
            "\n",
            "\n",
            "that place does not have quality meals and it isn't a good place to go for dinner\n",
            "[0.9984767]\n",
            "\n",
            "\n",
            "===================================\n",
            " With two bidirectional LSTMs:\n",
            " ===================================\n",
            "lovely\n",
            "[0.99977916]\n",
            "\n",
            "\n",
            "dreadful\n",
            "[0.02339694]\n",
            "\n",
            "\n",
            "stay away\n",
            "[0.00268742]\n",
            "\n",
            "\n",
            "everything was hot exactly as I wanted\n",
            "[0.99986005]\n",
            "\n",
            "\n",
            "everything was not exactly as I wanted\n",
            "[0.9060664]\n",
            "\n",
            "\n",
            "they gave us free chocolate cake\n",
            "[0.9979632]\n",
            "\n",
            "\n",
            "I've never eaten anything so spicy in my life, my throat burned for hours\n",
            "[0.99742365]\n",
            "\n",
            "\n",
            "for a phone that is as expensive as this one I expect it to be much easier to use than this thing is\n",
            "[0.05509642]\n",
            "\n",
            "\n",
            "we left there very full for a low price so I'd say you just can't go wrong at this place\n",
            "[0.9996118]\n",
            "\n",
            "\n",
            "that place does not have quality meals and it isn't a good place to go for dinner\n",
            "[0.00216203]\n",
            "\n",
            "\n"
          ],
          "name": "stdout"
        }
      ]
    }
  ]
}