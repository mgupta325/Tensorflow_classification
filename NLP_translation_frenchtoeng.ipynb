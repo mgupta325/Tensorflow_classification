{
  "nbformat": 4,
  "nbformat_minor": 0,
  "metadata": {
    "colab": {
      "name": "Untitled10.ipynb",
      "provenance": [],
      "authorship_tag": "ABX9TyOcZ/8ba9rIeFfQpUH1MPV8",
      "include_colab_link": true
    },
    "kernelspec": {
      "name": "python3",
      "display_name": "Python 3"
    },
    "accelerator": "GPU"
  },
  "cells": [
    {
      "cell_type": "markdown",
      "metadata": {
        "id": "view-in-github",
        "colab_type": "text"
      },
      "source": [
        "<a href=\"https://colab.research.google.com/github/mgupta325/tensorflow_classification/blob/master/NLP_translation_frenchtoeng.ipynb\" target=\"_parent\"><img src=\"https://colab.research.google.com/assets/colab-badge.svg\" alt=\"Open In Colab\"/></a>"
      ]
    },
    {
      "cell_type": "code",
      "metadata": {
        "id": "0i-pR81eVIgT",
        "colab_type": "code",
        "colab": {}
      },
      "source": [
        "import string\n",
        "import re\n",
        "from numpy import array, argmax, random, take\n",
        "import pandas as pd\n",
        "from keras.models import Sequential\n",
        "from keras.layers import Dense, LSTM, Embedding, RepeatVector\n",
        "from keras.preprocessing.text import Tokenizer\n",
        "from keras.callbacks import ModelCheckpoint\n",
        "from keras.preprocessing.sequence import pad_sequences\n",
        "from keras.models import load_model\n",
        "from keras import optimizers\n",
        "import matplotlib.pyplot as plt\n",
        "%matplotlib inline\n",
        "pd.set_option('display.max_colwidth', 200)"
      ],
      "execution_count": 0,
      "outputs": []
    },
    {
      "cell_type": "code",
      "metadata": {
        "id": "s1cOLqRM4ejn",
        "colab_type": "code",
        "colab": {}
      },
      "source": [
        "# function to read raw text file\n",
        "def read_text(filename):\n",
        "        # open the file\n",
        "        file = open(filename, mode='rt', encoding='utf-8')\n",
        "        \n",
        "        # read all text\n",
        "        text = file.read()\n",
        "        file.close()\n",
        "        return text"
      ],
      "execution_count": 0,
      "outputs": []
    },
    {
      "cell_type": "code",
      "metadata": {
        "id": "KA-u8DO1suzG",
        "colab_type": "code",
        "colab": {}
      },
      "source": [
        "# split a text into sentences\n",
        "def to_lines(text):\n",
        "      sents = text.strip().split('\\n')\n",
        "      sents = [i.split('\\t') for i in sents]\n",
        "      return sents"
      ],
      "execution_count": 0,
      "outputs": []
    },
    {
      "cell_type": "code",
      "metadata": {
        "id": "m8YGhdKwjdbK",
        "colab_type": "code",
        "colab": {
          "base_uri": "https://localhost:8080/",
          "height": 204
        },
        "outputId": "6a2ba304-d74f-4785-c0de-2d843e762ed1"
      },
      "source": [
        "!wget http://www.manythings.org/anki/fra-eng.zip -O /content/fra11"
      ],
      "execution_count": 28,
      "outputs": [
        {
          "output_type": "stream",
          "text": [
            "--2020-05-07 13:05:31--  http://www.manythings.org/anki/fra-eng.zip\n",
            "Resolving www.manythings.org (www.manythings.org)... 104.24.108.196, 104.24.109.196, 2606:4700:3037::6818:6cc4, ...\n",
            "Connecting to www.manythings.org (www.manythings.org)|104.24.108.196|:80... connected.\n",
            "HTTP request sent, awaiting response... 200 OK\n",
            "Length: 5982778 (5.7M) [application/zip]\n",
            "Saving to: ‘/content/fra11’\n",
            "\n",
            "\r/content/fra11        0%[                    ]       0  --.-KB/s               \r/content/fra11        3%[                    ] 221.50K   890KB/s               \r/content/fra11       52%[=========>          ]   3.01M  6.70MB/s               \r/content/fra11      100%[===================>]   5.71M  10.1MB/s    in 0.6s    \n",
            "\n",
            "2020-05-07 13:05:31 (10.1 MB/s) - ‘/content/fra11’ saved [5982778/5982778]\n",
            "\n"
          ],
          "name": "stdout"
        }
      ]
    },
    {
      "cell_type": "code",
      "metadata": {
        "id": "TjWWJO72k-jH",
        "colab_type": "code",
        "outputId": "87aabe9e-d026-43d1-c8ac-7081a7e2dcbf",
        "colab": {
          "base_uri": "https://localhost:8080/",
          "height": 34
        }
      },
      "source": [
        "!ls"
      ],
      "execution_count": 29,
      "outputs": [
        {
          "output_type": "stream",
          "text": [
            "_about.txt  fra11  fra.txt  model.h1.7_may  sample_data\n"
          ],
          "name": "stdout"
        }
      ]
    },
    {
      "cell_type": "code",
      "metadata": {
        "id": "nOdi68fqjIG2",
        "colab_type": "code",
        "colab": {
          "base_uri": "https://localhost:8080/",
          "height": 102
        },
        "outputId": "33577423-2fd0-447a-ad1c-914b38d0ab3b"
      },
      "source": [
        "!unzip  fra11 "
      ],
      "execution_count": 30,
      "outputs": [
        {
          "output_type": "stream",
          "text": [
            "Archive:  fra11\n",
            "replace _about.txt? [y]es, [n]o, [A]ll, [N]one, [r]ename: y\n",
            "  inflating: _about.txt              \n",
            "replace fra.txt? [y]es, [n]o, [A]ll, [N]one, [r]ename: y\n",
            "  inflating: fra.txt                 \n"
          ],
          "name": "stdout"
        }
      ]
    },
    {
      "cell_type": "code",
      "metadata": {
        "id": "hYyDlZHFv2dW",
        "colab_type": "code",
        "colab": {}
      },
      "source": [
        "data = read_text(\"fra.txt\")\n",
        "deu_eng = to_lines(data)\n",
        "deu_eng = array(deu_eng)\n",
        "deu_eng = deu_eng[:40000,0:2]\n",
        "deu_eng\n"
      ],
      "execution_count": 0,
      "outputs": []
    },
    {
      "cell_type": "code",
      "metadata": {
        "id": "bSOw79f-0Wog",
        "colab_type": "code",
        "colab": {}
      },
      "source": [
        "# Remove punctuation\n",
        "deu_eng[:,0] = [s.translate(str.maketrans('', '', string.punctuation)) for s in deu_eng[:,0]]\n",
        "deu_eng[:,1] = [s.translate(str.maketrans('', '', string.punctuation)) for s in deu_eng[:,1]]\n",
        "\n",
        "deu_eng"
      ],
      "execution_count": 0,
      "outputs": []
    },
    {
      "cell_type": "code",
      "metadata": {
        "id": "2mX6yS5H0v_d",
        "colab_type": "code",
        "colab": {}
      },
      "source": [
        "# convert text to lowercase\n",
        "for i in range(len(deu_eng)):\n",
        "    deu_eng[i,0] = deu_eng[i,0].lower()\n",
        "    deu_eng[i,1] = deu_eng[i,1].lower()\n",
        "\n",
        "deu_eng"
      ],
      "execution_count": 0,
      "outputs": []
    },
    {
      "cell_type": "code",
      "metadata": {
        "id": "KQ-hEVfE08Ow",
        "colab_type": "code",
        "colab": {
          "base_uri": "https://localhost:8080/",
          "height": 281
        },
        "outputId": "5cf681a4-4693-4626-de27-8b25849bb320"
      },
      "source": [
        "# empty lists\n",
        "eng_l = []\n",
        "deu_l = []\n",
        "\n",
        "# populate the lists with sentence lengths\n",
        "for i in deu_eng[:,0]:\n",
        "      eng_l.append(len(i.split()))\n",
        "\n",
        "for i in deu_eng[:,1]:\n",
        "      deu_l.append(len(i.split()))\n",
        "\n",
        "length_df = pd.DataFrame({'eng':eng_l, 'deu':deu_l})\n",
        "\n",
        "length_df.hist(bins = 30)\n",
        "plt.show()"
      ],
      "execution_count": 34,
      "outputs": [
        {
          "output_type": "display_data",
          "data": {
            "image/png": "[encoded data removed]",
            "text/plain": [
              "<Figure size 432x288 with 2 Axes>"
            ]
          },
          "metadata": {
            "tags": [],
            "needs_background": "light"
          }
        }
      ]
    },
    {
      "cell_type": "code",
      "metadata": {
        "id": "oWbY5H4k1ZoZ",
        "colab_type": "code",
        "colab": {
          "base_uri": "https://localhost:8080/",
          "height": 51
        },
        "outputId": "4f347f35-8ebf-4237-e49c-ee35bb9e3a7a"
      },
      "source": [
        "# function to build a tokenizer\n",
        "def tokenization(lines):\n",
        "      tokenizer = Tokenizer()\n",
        "      tokenizer.fit_on_texts(lines)\n",
        "      return tokenizer\n",
        "\n",
        "# prepare english tokenizer\n",
        "eng_tokenizer = tokenization(deu_eng[:, 0])\n",
        "eng_vocab_size = len(eng_tokenizer.word_index) + 1\n",
        "\n",
        "eng_length = 8\n",
        "print('English Vocabulary Size: %d' % eng_vocab_size)\n",
        "\n",
        "# prepare French tokenizer\n",
        "deu_tokenizer = tokenization(deu_eng[:, 1])\n",
        "deu_vocab_size = len(deu_tokenizer.word_index) + 1\n",
        "\n",
        "deu_length = 8\n",
        "print('French Vocabulary Size: %d' % deu_vocab_size)\n"
      ],
      "execution_count": 35,
      "outputs": [
        {
          "output_type": "stream",
          "text": [
            "English Vocabulary Size: 5256\n",
            "French Vocabulary Size: 12138\n"
          ],
          "name": "stdout"
        }
      ]
    },
    {
      "cell_type": "code",
      "metadata": {
        "id": "oJnV3Xcn1syh",
        "colab_type": "code",
        "colab": {}
      },
      "source": [
        "# encode and pad sequences\n",
        "def encode_sequences(tokenizer, length, lines):\n",
        "         # integer encode sequences\n",
        "         seq = tokenizer.texts_to_sequences(lines)\n",
        "         # pad sequences with 0 values\n",
        "         seq = pad_sequences(seq, maxlen=length, padding='post')\n",
        "         return seq"
      ],
      "execution_count": 0,
      "outputs": []
    },
    {
      "cell_type": "code",
      "metadata": {
        "id": "XpGjPnAS15GF",
        "colab_type": "code",
        "colab": {}
      },
      "source": [
        "from sklearn.model_selection import train_test_split\n",
        "\n",
        "# split data into train and test set\n",
        "train, test = train_test_split(deu_eng, test_size=0.2, random_state = 12)\n",
        "# prepare training data\n",
        "trainX = encode_sequences(deu_tokenizer, deu_length, train[:, 1])\n",
        "trainY = encode_sequences(eng_tokenizer, eng_length, train[:, 0])\n",
        "\n",
        "# prepare validation data\n",
        "testX = encode_sequences(deu_tokenizer, deu_length, test[:, 1])\n",
        "testY = encode_sequences(eng_tokenizer, eng_length, test[:, 0])"
      ],
      "execution_count": 0,
      "outputs": []
    },
    {
      "cell_type": "code",
      "metadata": {
        "id": "hm_qOWup2UsB",
        "colab_type": "code",
        "colab": {}
      },
      "source": [
        "# build NMT model\n",
        "def define_model(in_vocab,out_vocab, in_timesteps,out_timesteps,units):\n",
        "      model = Sequential()\n",
        "      model.add(Embedding(in_vocab, units, input_length=in_timesteps, mask_zero=True))\n",
        "      model.add(LSTM(units))\n",
        "      model.add(RepeatVector(out_timesteps))\n",
        "      model.add(LSTM(units, return_sequences=True))\n",
        "      model.add(Dense(out_vocab, activation='softmax'))\n",
        "      return model"
      ],
      "execution_count": 0,
      "outputs": []
    },
    {
      "cell_type": "code",
      "metadata": {
        "id": "BmRFJ9rg2sAa",
        "colab_type": "code",
        "colab": {}
      },
      "source": [
        "# model compilation\n",
        "model = define_model(deu_vocab_size, eng_vocab_size, deu_length, eng_length, 512)\n",
        "rms = optimizers.RMSprop(lr=0.001)\n",
        "model.compile(optimizer=rms, loss='sparse_categorical_crossentropy')"
      ],
      "execution_count": 0,
      "outputs": []
    },
    {
      "cell_type": "code",
      "metadata": {
        "id": "7hJjdtoL3CwS",
        "colab_type": "code",
        "colab": {
          "base_uri": "https://localhost:8080/",
          "height": 1000
        },
        "outputId": "9a07f25b-18b6-40e5-9076-023ae29434f8"
      },
      "source": [
        "filename = 'model.h1.7_may'\n",
        "checkpoint = ModelCheckpoint(filename, monitor='val_loss', verbose=1, save_best_only=True, mode='min')\n",
        "\n",
        "# train model\n",
        "history = model.fit(trainX, trainY.reshape(trainY.shape[0], trainY.shape[1], 1),\n",
        "                    epochs=30, batch_size=512, validation_split = 0.2,callbacks=[checkpoint], \n",
        "                    verbose=1)"
      ],
      "execution_count": 40,
      "outputs": [
        {
          "output_type": "stream",
          "text": [
            "/usr/local/lib/python3.6/dist-packages/tensorflow/python/framework/indexed_slices.py:434: UserWarning: Converting sparse IndexedSlices to a dense Tensor of unknown shape. This may consume a large amount of memory.\n",
            "  \"Converting sparse IndexedSlices to a dense Tensor of unknown shape. \"\n"
          ],
          "name": "stderr"
        },
        {
          "output_type": "stream",
          "text": [
            "Train on 25600 samples, validate on 6400 samples\n",
            "Epoch 1/30\n",
            "25600/25600 [==============================] - 4s 165us/step - loss: 3.5096 - val_loss: 2.8441\n",
            "\n",
            "Epoch 00001: val_loss improved from inf to 2.84411, saving model to model.h1.7_may\n",
            "Epoch 2/30\n",
            "25600/25600 [==============================] - 4s 140us/step - loss: 2.7707 - val_loss: 2.7575\n",
            "\n",
            "Epoch 00002: val_loss improved from 2.84411 to 2.75755, saving model to model.h1.7_may\n",
            "Epoch 3/30\n",
            "25600/25600 [==============================] - 4s 142us/step - loss: 2.6675 - val_loss: 2.6532\n",
            "\n",
            "Epoch 00003: val_loss improved from 2.75755 to 2.65315, saving model to model.h1.7_may\n",
            "Epoch 4/30\n",
            "25600/25600 [==============================] - 4s 142us/step - loss: 2.5425 - val_loss: 2.5737\n",
            "\n",
            "Epoch 00004: val_loss improved from 2.65315 to 2.57368, saving model to model.h1.7_may\n",
            "Epoch 5/30\n",
            "25600/25600 [==============================] - 4s 144us/step - loss: 2.4062 - val_loss: 2.4217\n",
            "\n",
            "Epoch 00005: val_loss improved from 2.57368 to 2.42171, saving model to model.h1.7_may\n",
            "Epoch 6/30\n",
            "25600/25600 [==============================] - 4s 142us/step - loss: 2.2704 - val_loss: 2.3253\n",
            "\n",
            "Epoch 00006: val_loss improved from 2.42171 to 2.32529, saving model to model.h1.7_may\n",
            "Epoch 7/30\n",
            "25600/25600 [==============================] - 4s 143us/step - loss: 2.1407 - val_loss: 2.2159\n",
            "\n",
            "Epoch 00007: val_loss improved from 2.32529 to 2.21587, saving model to model.h1.7_may\n",
            "Epoch 8/30\n",
            "25600/25600 [==============================] - 4s 141us/step - loss: 2.0194 - val_loss: 2.1304\n",
            "\n",
            "Epoch 00008: val_loss improved from 2.21587 to 2.13040, saving model to model.h1.7_may\n",
            "Epoch 9/30\n",
            "25600/25600 [==============================] - 4s 143us/step - loss: 1.9075 - val_loss: 2.0396\n",
            "\n",
            "Epoch 00009: val_loss improved from 2.13040 to 2.03964, saving model to model.h1.7_may\n",
            "Epoch 10/30\n",
            "25600/25600 [==============================] - 4s 142us/step - loss: 1.8036 - val_loss: 2.0029\n",
            "\n",
            "Epoch 00010: val_loss improved from 2.03964 to 2.00293, saving model to model.h1.7_may\n",
            "Epoch 11/30\n",
            "25600/25600 [==============================] - 4s 143us/step - loss: 1.7074 - val_loss: 1.9310\n",
            "\n",
            "Epoch 00011: val_loss improved from 2.00293 to 1.93096, saving model to model.h1.7_may\n",
            "Epoch 12/30\n",
            "25600/25600 [==============================] - 4s 139us/step - loss: 1.6204 - val_loss: 1.8887\n",
            "\n",
            "Epoch 00012: val_loss improved from 1.93096 to 1.88868, saving model to model.h1.7_may\n",
            "Epoch 13/30\n",
            "25600/25600 [==============================] - 4s 143us/step - loss: 1.5348 - val_loss: 1.8350\n",
            "\n",
            "Epoch 00013: val_loss improved from 1.88868 to 1.83497, saving model to model.h1.7_may\n",
            "Epoch 14/30\n",
            "25600/25600 [==============================] - 4s 142us/step - loss: 1.4526 - val_loss: 1.7943\n",
            "\n",
            "Epoch 00014: val_loss improved from 1.83497 to 1.79433, saving model to model.h1.7_may\n",
            "Epoch 15/30\n",
            "25600/25600 [==============================] - 4s 141us/step - loss: 1.3746 - val_loss: 1.7558\n",
            "\n",
            "Epoch 00015: val_loss improved from 1.79433 to 1.75580, saving model to model.h1.7_may\n",
            "Epoch 16/30\n",
            "25600/25600 [==============================] - 4s 144us/step - loss: 1.3005 - val_loss: 1.7143\n",
            "\n",
            "Epoch 00016: val_loss improved from 1.75580 to 1.71434, saving model to model.h1.7_may\n",
            "Epoch 17/30\n",
            "25600/25600 [==============================] - 4s 140us/step - loss: 1.2285 - val_loss: 1.6742\n",
            "\n",
            "Epoch 00017: val_loss improved from 1.71434 to 1.67417, saving model to model.h1.7_may\n",
            "Epoch 18/30\n",
            "25600/25600 [==============================] - 4s 143us/step - loss: 1.1581 - val_loss: 1.6399\n",
            "\n",
            "Epoch 00018: val_loss improved from 1.67417 to 1.63986, saving model to model.h1.7_may\n",
            "Epoch 19/30\n",
            "25600/25600 [==============================] - 4s 142us/step - loss: 1.0958 - val_loss: 1.6264\n",
            "\n",
            "Epoch 00019: val_loss improved from 1.63986 to 1.62640, saving model to model.h1.7_may\n",
            "Epoch 20/30\n",
            "25600/25600 [==============================] - 4s 143us/step - loss: 1.0284 - val_loss: 1.5998\n",
            "\n",
            "Epoch 00020: val_loss improved from 1.62640 to 1.59977, saving model to model.h1.7_may\n",
            "Epoch 21/30\n",
            "25600/25600 [==============================] - 4s 142us/step - loss: 0.9692 - val_loss: 1.5633\n",
            "\n",
            "Epoch 00021: val_loss improved from 1.59977 to 1.56334, saving model to model.h1.7_may\n",
            "Epoch 22/30\n",
            "25600/25600 [==============================] - 4s 144us/step - loss: 0.9079 - val_loss: 1.5339\n",
            "\n",
            "Epoch 00022: val_loss improved from 1.56334 to 1.53392, saving model to model.h1.7_may\n",
            "Epoch 23/30\n",
            "25600/25600 [==============================] - 4s 143us/step - loss: 0.8534 - val_loss: 1.5291\n",
            "\n",
            "Epoch 00023: val_loss improved from 1.53392 to 1.52905, saving model to model.h1.7_may\n",
            "Epoch 24/30\n",
            "25600/25600 [==============================] - 4s 143us/step - loss: 0.7975 - val_loss: 1.4938\n",
            "\n",
            "Epoch 00024: val_loss improved from 1.52905 to 1.49378, saving model to model.h1.7_may\n",
            "Epoch 25/30\n",
            "25600/25600 [==============================] - 4s 144us/step - loss: 0.7436 - val_loss: 1.4754\n",
            "\n",
            "Epoch 00025: val_loss improved from 1.49378 to 1.47543, saving model to model.h1.7_may\n",
            "Epoch 26/30\n",
            "25600/25600 [==============================] - 4s 144us/step - loss: 0.6962 - val_loss: 1.4523\n",
            "\n",
            "Epoch 00026: val_loss improved from 1.47543 to 1.45231, saving model to model.h1.7_may\n",
            "Epoch 27/30\n",
            "25600/25600 [==============================] - 4s 141us/step - loss: 0.6459 - val_loss: 1.4470\n",
            "\n",
            "Epoch 00027: val_loss improved from 1.45231 to 1.44701, saving model to model.h1.7_may\n",
            "Epoch 28/30\n",
            "25600/25600 [==============================] - 4s 145us/step - loss: 0.6013 - val_loss: 1.4433\n",
            "\n",
            "Epoch 00028: val_loss improved from 1.44701 to 1.44334, saving model to model.h1.7_may\n",
            "Epoch 29/30\n",
            "25600/25600 [==============================] - 4s 142us/step - loss: 0.5576 - val_loss: 1.4421\n",
            "\n",
            "Epoch 00029: val_loss improved from 1.44334 to 1.44211, saving model to model.h1.7_may\n",
            "Epoch 30/30\n",
            "25600/25600 [==============================] - 4s 141us/step - loss: 0.5169 - val_loss: 1.4168\n",
            "\n",
            "Epoch 00030: val_loss improved from 1.44211 to 1.41677, saving model to model.h1.7_may\n"
          ],
          "name": "stdout"
        }
      ]
    },
    {
      "cell_type": "code",
      "metadata": {
        "id": "HVmIJiJFOAT2",
        "colab_type": "code",
        "colab": {
          "base_uri": "https://localhost:8080/",
          "height": 265
        },
        "outputId": "17a056f3-b6e4-4c06-d478-1ca34f89cafa"
      },
      "source": [
        "plt.plot(history.history['loss'])\n",
        "plt.plot(history.history['val_loss'])\n",
        "plt.legend(['train','validation'])\n",
        "plt.show()"
      ],
      "execution_count": 41,
      "outputs": [
        {
          "output_type": "display_data",
          "data": {
            "image/png": "[encoded data removed]",
            "text/plain": [
              "<Figure size 432x288 with 1 Axes>"
            ]
          },
          "metadata": {
            "tags": [],
            "needs_background": "light"
          }
        }
      ]
    },
    {
      "cell_type": "code",
      "metadata": {
        "id": "TXNY11oxOTsv",
        "colab_type": "code",
        "colab": {
          "base_uri": "https://localhost:8080/",
          "height": 71
        },
        "outputId": "237ebb79-5268-4345-f843-bea84a4fc3b4"
      },
      "source": [
        "model = load_model('model.h1.7_may')\n",
        "preds = model.predict_classes(testX.reshape((testX.shape[0],testX.shape[1])))"
      ],
      "execution_count": 42,
      "outputs": [
        {
          "output_type": "stream",
          "text": [
            "/usr/local/lib/python3.6/dist-packages/tensorflow/python/framework/indexed_slices.py:434: UserWarning: Converting sparse IndexedSlices to a dense Tensor of unknown shape. This may consume a large amount of memory.\n",
            "  \"Converting sparse IndexedSlices to a dense Tensor of unknown shape. \"\n"
          ],
          "name": "stderr"
        }
      ]
    },
    {
      "cell_type": "code",
      "metadata": {
        "id": "-ntjF_tFOYgL",
        "colab_type": "code",
        "colab": {}
      },
      "source": [
        "def get_word(n, tokenizer):\n",
        "      for word, index in tokenizer.word_index.items():\n",
        "          if index == n:\n",
        "              return word\n",
        "      return None"
      ],
      "execution_count": 0,
      "outputs": []
    },
    {
      "cell_type": "code",
      "metadata": {
        "id": "r8h4iycjOnW0",
        "colab_type": "code",
        "colab": {}
      },
      "source": [
        "preds_text = []\n",
        "for i in preds:\n",
        "       temp = []\n",
        "       for j in range(len(i)):\n",
        "            t = get_word(i[j], eng_tokenizer)\n",
        "            if j > 0:\n",
        "                if (t == get_word(i[j-1], eng_tokenizer)) or (t == None):\n",
        "                     temp.append('')\n",
        "                else:\n",
        "                     temp.append(t)\n",
        "            else:\n",
        "                   if(t == None):\n",
        "                          temp.append('')\n",
        "                   else:\n",
        "                          temp.append(t) \n",
        "\n",
        "       preds_text.append(' '.join(temp))"
      ],
      "execution_count": 0,
      "outputs": []
    },
    {
      "cell_type": "code",
      "metadata": {
        "id": "BMX5QxyxOp8c",
        "colab_type": "code",
        "colab": {
          "base_uri": "https://localhost:8080/",
          "height": 514
        },
        "outputId": "1e55b7d0-dd74-4366-8fe0-59f87640bc2e"
      },
      "source": [
        "pred_df = pd.DataFrame({'actual' : test[:,0], 'predicted' : preds_text})\n",
        "# print 15 rows randomly\n",
        "pred_df.sample(15)"
      ],
      "execution_count": 46,
      "outputs": [
        {
          "output_type": "execute_result",
          "data": {
            "text/html": [
              "<div>\n",
              "<style scoped>\n",
              "    .dataframe tbody tr th:only-of-type {\n",
              "        vertical-align: middle;\n",
              "    }\n",
              "\n",
              "    .dataframe tbody tr th {\n",
              "        vertical-align: top;\n",
              "    }\n",
              "\n",
              "    .dataframe thead th {\n",
              "        text-align: right;\n",
              "    }\n",
              "</style>\n",
              "<table border=\"1\" class=\"dataframe\">\n",
              "  <thead>\n",
              "    <tr style=\"text-align: right;\">\n",
              "      <th></th>\n",
              "      <th>actual</th>\n",
              "      <th>predicted</th>\n",
              "    </tr>\n",
              "  </thead>\n",
              "  <tbody>\n",
              "    <tr>\n",
              "      <th>3057</th>\n",
              "      <td>im impatient</td>\n",
              "      <td>im surprised</td>\n",
              "    </tr>\n",
              "    <tr>\n",
              "      <th>3189</th>\n",
              "      <td>what do they need</td>\n",
              "      <td>what do you need</td>\n",
              "    </tr>\n",
              "    <tr>\n",
              "      <th>2523</th>\n",
              "      <td>its too hard for me</td>\n",
              "      <td>its too for far</td>\n",
              "    </tr>\n",
              "    <tr>\n",
              "      <th>317</th>\n",
              "      <td>youre very timid</td>\n",
              "      <td>youre very timid</td>\n",
              "    </tr>\n",
              "    <tr>\n",
              "      <th>1559</th>\n",
              "      <td>i didnt volunteer</td>\n",
              "      <td>i didnt no a</td>\n",
              "    </tr>\n",
              "    <tr>\n",
              "      <th>5810</th>\n",
              "      <td>tom is still angry</td>\n",
              "      <td>tom is still angry</td>\n",
              "    </tr>\n",
              "    <tr>\n",
              "      <th>3763</th>\n",
              "      <td>its dirt cheap</td>\n",
              "      <td>thats is</td>\n",
              "    </tr>\n",
              "    <tr>\n",
              "      <th>3337</th>\n",
              "      <td>the maid made my bed</td>\n",
              "      <td>the dog is my bed</td>\n",
              "    </tr>\n",
              "    <tr>\n",
              "      <th>6976</th>\n",
              "      <td>i bought an old lamp</td>\n",
              "      <td>i had a  mistake</td>\n",
              "    </tr>\n",
              "    <tr>\n",
              "      <th>4737</th>\n",
              "      <td>we cant go</td>\n",
              "      <td>we cant go there</td>\n",
              "    </tr>\n",
              "    <tr>\n",
              "      <th>1725</th>\n",
              "      <td>i remember them</td>\n",
              "      <td>i remember it</td>\n",
              "    </tr>\n",
              "    <tr>\n",
              "      <th>953</th>\n",
              "      <td>when does it end</td>\n",
              "      <td>when does it happen</td>\n",
              "    </tr>\n",
              "    <tr>\n",
              "      <th>6279</th>\n",
              "      <td>tom changed his diet</td>\n",
              "      <td>tom changed his diet</td>\n",
              "    </tr>\n",
              "    <tr>\n",
              "      <th>5565</th>\n",
              "      <td>im too busy</td>\n",
              "      <td>im too busy</td>\n",
              "    </tr>\n",
              "    <tr>\n",
              "      <th>3987</th>\n",
              "      <td>this dog minds well</td>\n",
              "      <td>that dog is dog</td>\n",
              "    </tr>\n",
              "  </tbody>\n",
              "</table>\n",
              "</div>"
            ],
            "text/plain": [
              "                    actual                 predicted\n",
              "3057          im impatient        im surprised      \n",
              "3189     what do they need      what do you need    \n",
              "2523   its too hard for me       its too for far    \n",
              "317       youre very timid     youre very timid     \n",
              "1559     i didnt volunteer          i didnt no a    \n",
              "5810    tom is still angry    tom is still angry    \n",
              "3763        its dirt cheap            thats is      \n",
              "3337  the maid made my bed      the dog is my bed   \n",
              "6976  i bought an old lamp       i had a  mistake   \n",
              "4737            we cant go      we cant go there    \n",
              "1725       i remember them        i remember it     \n",
              "953       when does it end   when does it happen    \n",
              "6279  tom changed his diet  tom changed his diet    \n",
              "5565           im too busy          im too busy     \n",
              "3987   this dog minds well       that dog is dog    "
            ]
          },
          "metadata": {
            "tags": []
          },
          "execution_count": 46
        }
      ]
    },
    {
      "cell_type": "code",
      "metadata": {
        "id": "IdQvxRd3O_zJ",
        "colab_type": "code",
        "colab": {}
      },
      "source": [
        ""
      ],
      "execution_count": 0,
      "outputs": []
    }
  ]
}